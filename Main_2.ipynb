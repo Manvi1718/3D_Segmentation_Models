{
 "cells": [
  {
   "cell_type": "markdown",
   "id": "9acd8a62",
   "metadata": {},
   "source": [
    "For loading the model and continue training"
   ]
  },
  {
   "cell_type": "code",
   "execution_count": 3,
   "id": "c90c3fc1",
   "metadata": {},
   "outputs": [],
   "source": [
    "# from keras.models import load_model\n",
    "# import segmentation_models_3D as sm\n",
    "# from keras.optimizers import Adam\n",
    "# import numpy as np\n",
    "\n",
    "# # Step 1: Load the model\n",
    "# model = load_model('./3D_model_vgg16_2epochs.h5', compile=False)\n",
    "\n",
    "# # Step 2: Re-define loss and metrics\n",
    "# n_classes = 8\n",
    "# dice_loss = sm.losses.DiceLoss(class_weights=np.array([1/n_classes] * n_classes))  # or your custom weights\n",
    "# focal_loss = sm.losses.CategoricalFocalLoss()\n",
    "# total_loss = dice_loss + focal_loss\n",
    "\n",
    "# metrics = [\n",
    "#     sm.metrics.IOUScore(threshold=0.5),\n",
    "#     sm.metrics.FScore(threshold=0.5)\n",
    "# ]\n",
    "\n",
    "# # Step 3: Recompile the model\n",
    "# model.compile(\n",
    "#     optimizer=Adam(learning_rate=1e-4),\n",
    "#     loss=total_loss,\n",
    "#     metrics=metrics\n",
    "# )\n",
    "\n",
    "# # Step 4: Continue training\n",
    "# history = model.fit(\n",
    "#     X_train,\n",
    "#     y_train,\n",
    "#     batch_size=8,\n",
    "#     epochs=10,  # or more\n",
    "#     validation_data=(X_test, y_test),\n",
    "#     verbose=1\n",
    "# )\n"
   ]
  },
  {
   "cell_type": "code",
   "execution_count": 4,
   "id": "670732dc",
   "metadata": {},
   "outputs": [],
   "source": [
    "#Load the pretrained model for testing and predictions.\n",
    "from keras.models import load_model\n",
    "my_model = load_model('./3D_model_vgg16_2epochs.h5', compile=False)"
   ]
  },
  {
   "cell_type": "markdown",
   "id": "36a6248d",
   "metadata": {},
   "source": [
    "ON FULL VOLUME"
   ]
  },
  {
   "cell_type": "code",
   "execution_count": 5,
   "id": "3b39a364",
   "metadata": {},
   "outputs": [
    {
     "name": "stdout",
     "output_type": "stream",
     "text": [
      "Original volume shape: (512, 512, 206)\n",
      "Padded volume shape: (512, 512, 256)\n",
      "Patches shape: (8, 8, 4, 64, 64, 64)\n"
     ]
    }
   ],
   "source": [
    "import nibabel as nib\n",
    "import numpy as np\n",
    "from patchify import patchify\n",
    "\n",
    "# Load the volume\n",
    "nii_img = nib.load('./Data_Subset/images/ct_1003_image.nii.gz')\n",
    "large_image = nii_img.get_fdata()  # shape: (H, W, D)\n",
    "\n",
    "print(\"Original volume shape:\", large_image.shape)\n",
    "\n",
    "# Get original depth\n",
    "depth = large_image.shape[2]\n",
    "pad_depth = (64 - depth % 64) if depth % 64 != 0 else 0\n",
    "\n",
    "# Pad along the depth axis (last axis)\n",
    "padded_image = np.pad(large_image, ((0, 0), (0, 0), (0, pad_depth)), mode='constant', constant_values=0)\n",
    "print(\"Padded volume shape:\", padded_image.shape)\n",
    "\n",
    "# Extract non-overlapping patches\n",
    "patches = patchify(padded_image, (64, 64, 64), step=64)\n",
    "print(\"Patches shape:\", patches.shape)  # (x, y, z, 64, 64, 64)\n"
   ]
  },
  {
   "cell_type": "code",
   "execution_count": 7,
   "id": "e0f08cdf",
   "metadata": {},
   "outputs": [
    {
     "name": "stdout",
     "output_type": "stream",
     "text": [
      "Segmentation Models: using `tf.keras` framework.\n",
      "numpy: 1.24.3\n",
      "tensorflow: 2.13.0\n",
      "keras: 2.13.1\n",
      "scikit-image: 0.21.0\n",
      "matplotlib: 3.7.1\n",
      "scikit-learn: 1.3.0\n",
      "nibabel: 5.1.0\n",
      "segmentation-models-3D: 1.0.4\n",
      "classification-models-3D: 1.0.0\n",
      "efficientnet-3D: 1.0.0\n"
     ]
    }
   ],
   "source": [
    "import numpy\n",
    "import tensorflow\n",
    "import keras\n",
    "import skimage\n",
    "import patchify\n",
    "import matplotlib\n",
    "import sklearn\n",
    "import nibabel\n",
    "import segmentation_models_3D\n",
    "import classification_models_3D\n",
    "import efficientnet_3D\n",
    "\n",
    "print(\"numpy:\", numpy.__version__)\n",
    "print(\"tensorflow:\", tensorflow.__version__)\n",
    "print(\"keras:\", keras.__version__)\n",
    "print(\"scikit-image:\", skimage.__version__)\n",
    "print(\"matplotlib:\", matplotlib.__version__)\n",
    "print(\"scikit-learn:\", sklearn.__version__)\n",
    "print(\"nibabel:\", nibabel.__version__)\n",
    "print(\"segmentation-models-3D:\", segmentation_models_3D.__version__)\n",
    "print(\"classification-models-3D:\", classification_models_3D.__version__)\n",
    "print(\"efficientnet-3D:\", efficientnet_3D.__version__)\n"
   ]
  },
  {
   "cell_type": "code",
   "execution_count": 8,
   "id": "9c92fe3b",
   "metadata": {},
   "outputs": [],
   "source": [
    "import segmentation_models_3D as sm"
   ]
  },
  {
   "cell_type": "code",
   "execution_count": 9,
   "id": "751b09c2",
   "metadata": {},
   "outputs": [],
   "source": [
    "\n",
    "BACKBONE = 'vgg16'  \n",
    "preprocess_input = sm.get_preprocessing(BACKBONE)\n"
   ]
  },
  {
   "cell_type": "code",
   "execution_count": 10,
   "id": "fa7ceefd",
   "metadata": {},
   "outputs": [
    {
     "name": "stdout",
     "output_type": "stream",
     "text": [
      "1/1 [==============================] - 1s 1s/step\n",
      "1/1 [==============================] - 1s 692ms/step\n",
      "1/1 [==============================] - 1s 755ms/step\n",
      "1/1 [==============================] - 1s 704ms/step\n",
      "1/1 [==============================] - 1s 716ms/step\n",
      "1/1 [==============================] - 1s 691ms/step\n",
      "1/1 [==============================] - 1s 683ms/step\n",
      "1/1 [==============================] - 1s 687ms/step\n",
      "1/1 [==============================] - 1s 708ms/step\n",
      "1/1 [==============================] - 1s 826ms/step\n",
      "1/1 [==============================] - 1s 749ms/step\n",
      "1/1 [==============================] - 1s 755ms/step\n",
      "1/1 [==============================] - 1s 800ms/step\n",
      "1/1 [==============================] - 1s 773ms/step\n",
      "1/1 [==============================] - 1s 762ms/step\n",
      "1/1 [==============================] - 1s 786ms/step\n",
      "1/1 [==============================] - 1s 824ms/step\n",
      "1/1 [==============================] - 1s 806ms/step\n",
      "1/1 [==============================] - 1s 815ms/step\n",
      "1/1 [==============================] - 1s 811ms/step\n",
      "1/1 [==============================] - 1s 814ms/step\n",
      "1/1 [==============================] - 1s 831ms/step\n",
      "1/1 [==============================] - 1s 897ms/step\n",
      "1/1 [==============================] - 1s 834ms/step\n",
      "1/1 [==============================] - 1s 830ms/step\n",
      "1/1 [==============================] - 1s 861ms/step\n",
      "1/1 [==============================] - 1s 939ms/step\n",
      "1/1 [==============================] - 1s 947ms/step\n",
      "1/1 [==============================] - 1s 883ms/step\n",
      "1/1 [==============================] - 1s 900ms/step\n",
      "1/1 [==============================] - 1s 941ms/step\n",
      "1/1 [==============================] - 1s 1s/step\n",
      "1/1 [==============================] - 1s 1s/step\n",
      "1/1 [==============================] - 1s 1s/step\n",
      "1/1 [==============================] - 1s 950ms/step\n",
      "1/1 [==============================] - 1s 938ms/step\n",
      "1/1 [==============================] - 1s 932ms/step\n",
      "1/1 [==============================] - 1s 933ms/step\n",
      "1/1 [==============================] - 1s 954ms/step\n",
      "1/1 [==============================] - 1s 949ms/step\n",
      "1/1 [==============================] - 1s 949ms/step\n",
      "1/1 [==============================] - 1s 1s/step\n",
      "1/1 [==============================] - 1s 1s/step\n",
      "1/1 [==============================] - 1s 1s/step\n",
      "1/1 [==============================] - 1s 1s/step\n",
      "1/1 [==============================] - 1s 1s/step\n",
      "1/1 [==============================] - 1s 1s/step\n",
      "1/1 [==============================] - 1s 1s/step\n",
      "1/1 [==============================] - 1s 1s/step\n",
      "1/1 [==============================] - 1s 1s/step\n",
      "1/1 [==============================] - 1s 1s/step\n",
      "1/1 [==============================] - 1s 1s/step\n",
      "1/1 [==============================] - 1s 1s/step\n",
      "1/1 [==============================] - 1s 1s/step\n",
      "1/1 [==============================] - 1s 1s/step\n",
      "1/1 [==============================] - 1s 1s/step\n",
      "1/1 [==============================] - 1s 1s/step\n",
      "1/1 [==============================] - 1s 1s/step\n",
      "1/1 [==============================] - 1s 1s/step\n",
      "1/1 [==============================] - 1s 1s/step\n",
      "1/1 [==============================] - 1s 1s/step\n",
      "1/1 [==============================] - 1s 1s/step\n",
      "1/1 [==============================] - 1s 1s/step\n",
      "1/1 [==============================] - 1s 1s/step\n",
      "1/1 [==============================] - 1s 1s/step\n",
      "1/1 [==============================] - 1s 1s/step\n",
      "1/1 [==============================] - 1s 1s/step\n",
      "1/1 [==============================] - 1s 1s/step\n",
      "1/1 [==============================] - 1s 1s/step\n",
      "1/1 [==============================] - 1s 1s/step\n",
      "1/1 [==============================] - 1s 1s/step\n",
      "1/1 [==============================] - 1s 1s/step\n",
      "1/1 [==============================] - 1s 1s/step\n",
      "1/1 [==============================] - 1s 1s/step\n",
      "1/1 [==============================] - 1s 1s/step\n",
      "1/1 [==============================] - 1s 1s/step\n",
      "1/1 [==============================] - 1s 1s/step\n",
      "1/1 [==============================] - 1s 1s/step\n",
      "1/1 [==============================] - 1s 1s/step\n",
      "1/1 [==============================] - 1s 1s/step\n",
      "1/1 [==============================] - 1s 1s/step\n",
      "1/1 [==============================] - 1s 1s/step\n",
      "1/1 [==============================] - 1s 1s/step\n",
      "1/1 [==============================] - 1s 1s/step\n",
      "1/1 [==============================] - 1s 1s/step\n",
      "1/1 [==============================] - 1s 1s/step\n",
      "1/1 [==============================] - 1s 1s/step\n",
      "1/1 [==============================] - 1s 1s/step\n",
      "1/1 [==============================] - 1s 1s/step\n",
      "1/1 [==============================] - 1s 1s/step\n",
      "1/1 [==============================] - 1s 1s/step\n",
      "1/1 [==============================] - 1s 1s/step\n",
      "1/1 [==============================] - 1s 1s/step\n",
      "1/1 [==============================] - 1s 1s/step\n",
      "1/1 [==============================] - 1s 1s/step\n",
      "1/1 [==============================] - 1s 1s/step\n",
      "1/1 [==============================] - 1s 1s/step\n",
      "1/1 [==============================] - 1s 1s/step\n",
      "1/1 [==============================] - 1s 1s/step\n",
      "1/1 [==============================] - 1s 1s/step\n",
      "1/1 [==============================] - 1s 1s/step\n",
      "1/1 [==============================] - 1s 1s/step\n",
      "1/1 [==============================] - 1s 1s/step\n",
      "1/1 [==============================] - 1s 1s/step\n",
      "1/1 [==============================] - 1s 1s/step\n",
      "1/1 [==============================] - 1s 1s/step\n",
      "1/1 [==============================] - 1s 1s/step\n",
      "1/1 [==============================] - 1s 1s/step\n",
      "1/1 [==============================] - 1s 1s/step\n",
      "1/1 [==============================] - 1s 1s/step\n",
      "1/1 [==============================] - 1s 1s/step\n",
      "1/1 [==============================] - 1s 1s/step\n",
      "1/1 [==============================] - 1s 1s/step\n",
      "1/1 [==============================] - 1s 1s/step\n",
      "1/1 [==============================] - 1s 1s/step\n",
      "1/1 [==============================] - 1s 1s/step\n",
      "1/1 [==============================] - 1s 1s/step\n",
      "1/1 [==============================] - 1s 1s/step\n",
      "1/1 [==============================] - 1s 1s/step\n",
      "1/1 [==============================] - 1s 1s/step\n",
      "1/1 [==============================] - 1s 1s/step\n",
      "1/1 [==============================] - 1s 1s/step\n",
      "1/1 [==============================] - 1s 1s/step\n",
      "1/1 [==============================] - 1s 1s/step\n",
      "1/1 [==============================] - 1s 1s/step\n",
      "1/1 [==============================] - 2s 2s/step\n",
      "1/1 [==============================] - 2s 2s/step\n",
      "1/1 [==============================] - 2s 2s/step\n",
      "1/1 [==============================] - 2s 2s/step\n",
      "1/1 [==============================] - 2s 2s/step\n",
      "1/1 [==============================] - 2s 2s/step\n",
      "1/1 [==============================] - 2s 2s/step\n",
      "1/1 [==============================] - 2s 2s/step\n",
      "1/1 [==============================] - 2s 2s/step\n",
      "1/1 [==============================] - 2s 2s/step\n",
      "1/1 [==============================] - 2s 2s/step\n",
      "1/1 [==============================] - 2s 2s/step\n",
      "1/1 [==============================] - 2s 2s/step\n",
      "1/1 [==============================] - 2s 2s/step\n",
      "1/1 [==============================] - 2s 2s/step\n",
      "1/1 [==============================] - 2s 2s/step\n",
      "1/1 [==============================] - 1s 1s/step\n",
      "1/1 [==============================] - 1s 1s/step\n",
      "1/1 [==============================] - 1s 1s/step\n",
      "1/1 [==============================] - 1s 1s/step\n",
      "1/1 [==============================] - 1s 1s/step\n",
      "1/1 [==============================] - 1s 1s/step\n",
      "1/1 [==============================] - 1s 1s/step\n",
      "1/1 [==============================] - 1s 1s/step\n",
      "1/1 [==============================] - 1s 1s/step\n",
      "1/1 [==============================] - 1s 1s/step\n",
      "1/1 [==============================] - 1s 1s/step\n",
      "1/1 [==============================] - 1s 1s/step\n",
      "1/1 [==============================] - 1s 1s/step\n",
      "1/1 [==============================] - 1s 1s/step\n",
      "1/1 [==============================] - 1s 1s/step\n",
      "1/1 [==============================] - 1s 1s/step\n",
      "1/1 [==============================] - 1s 1s/step\n",
      "1/1 [==============================] - 1s 1s/step\n",
      "1/1 [==============================] - 1s 1s/step\n",
      "1/1 [==============================] - 1s 1s/step\n",
      "1/1 [==============================] - 1s 1s/step\n",
      "1/1 [==============================] - 1s 1s/step\n",
      "1/1 [==============================] - 1s 1s/step\n",
      "1/1 [==============================] - 1s 1s/step\n",
      "1/1 [==============================] - 2s 2s/step\n",
      "1/1 [==============================] - 1s 1s/step\n",
      "1/1 [==============================] - 1s 1s/step\n",
      "1/1 [==============================] - 1s 1s/step\n",
      "1/1 [==============================] - 2s 2s/step\n",
      "1/1 [==============================] - 1s 1s/step\n",
      "1/1 [==============================] - 1s 1s/step\n",
      "1/1 [==============================] - 1s 1s/step\n",
      "1/1 [==============================] - 1s 1s/step\n",
      "1/1 [==============================] - 1s 1s/step\n",
      "1/1 [==============================] - 1s 1s/step\n",
      "1/1 [==============================] - 2s 2s/step\n",
      "1/1 [==============================] - 1s 1s/step\n",
      "1/1 [==============================] - 2s 2s/step\n",
      "1/1 [==============================] - 1s 1s/step\n",
      "1/1 [==============================] - 1s 1s/step\n",
      "1/1 [==============================] - 1s 1s/step\n",
      "1/1 [==============================] - 1s 1s/step\n",
      "1/1 [==============================] - 1s 1s/step\n",
      "1/1 [==============================] - 1s 1s/step\n",
      "1/1 [==============================] - 1s 1s/step\n",
      "1/1 [==============================] - 1s 1s/step\n",
      "1/1 [==============================] - 1s 1s/step\n",
      "1/1 [==============================] - 1s 1s/step\n",
      "1/1 [==============================] - 1s 1s/step\n",
      "1/1 [==============================] - 1s 1s/step\n",
      "1/1 [==============================] - 1s 1s/step\n",
      "1/1 [==============================] - 1s 1s/step\n",
      "1/1 [==============================] - 1s 1s/step\n",
      "1/1 [==============================] - 1s 1s/step\n",
      "1/1 [==============================] - 1s 1s/step\n",
      "1/1 [==============================] - 1s 1s/step\n",
      "1/1 [==============================] - 1s 1s/step\n",
      "1/1 [==============================] - 1s 1s/step\n",
      "1/1 [==============================] - 1s 1s/step\n",
      "1/1 [==============================] - 1s 1s/step\n",
      "1/1 [==============================] - 1s 1s/step\n",
      "1/1 [==============================] - 1s 1s/step\n",
      "1/1 [==============================] - 1s 1s/step\n",
      "1/1 [==============================] - 1s 1s/step\n",
      "1/1 [==============================] - 1s 1s/step\n",
      "1/1 [==============================] - 1s 1s/step\n",
      "1/1 [==============================] - 1s 1s/step\n",
      "1/1 [==============================] - 1s 1s/step\n",
      "1/1 [==============================] - 1s 1s/step\n",
      "1/1 [==============================] - 1s 1s/step\n",
      "1/1 [==============================] - 1s 1s/step\n",
      "1/1 [==============================] - 1s 1s/step\n",
      "1/1 [==============================] - 1s 1s/step\n",
      "1/1 [==============================] - 1s 1s/step\n",
      "1/1 [==============================] - 1s 1s/step\n",
      "1/1 [==============================] - 1s 1s/step\n",
      "1/1 [==============================] - 1s 1s/step\n",
      "1/1 [==============================] - 1s 1s/step\n",
      "1/1 [==============================] - 1s 1s/step\n",
      "1/1 [==============================] - 1s 1s/step\n",
      "1/1 [==============================] - 1s 1s/step\n",
      "1/1 [==============================] - 1s 1s/step\n",
      "1/1 [==============================] - 1s 1s/step\n",
      "1/1 [==============================] - 1s 1s/step\n",
      "1/1 [==============================] - 1s 1s/step\n",
      "1/1 [==============================] - 1s 1s/step\n",
      "1/1 [==============================] - 1s 1s/step\n",
      "1/1 [==============================] - 1s 1s/step\n",
      "1/1 [==============================] - 2s 2s/step\n",
      "1/1 [==============================] - 1s 1s/step\n",
      "1/1 [==============================] - 1s 1s/step\n",
      "1/1 [==============================] - 1s 1s/step\n",
      "1/1 [==============================] - 1s 1s/step\n",
      "1/1 [==============================] - 1s 1s/step\n",
      "1/1 [==============================] - 1s 1s/step\n",
      "1/1 [==============================] - 1s 1s/step\n",
      "1/1 [==============================] - 1s 1s/step\n",
      "1/1 [==============================] - 1s 1s/step\n",
      "1/1 [==============================] - 1s 1s/step\n",
      "1/1 [==============================] - 1s 1s/step\n",
      "1/1 [==============================] - 1s 1s/step\n",
      "1/1 [==============================] - 1s 1s/step\n",
      "1/1 [==============================] - 1s 1s/step\n",
      "1/1 [==============================] - 1s 1s/step\n",
      "1/1 [==============================] - 1s 1s/step\n",
      "1/1 [==============================] - 1s 1s/step\n",
      "1/1 [==============================] - 1s 1s/step\n",
      "1/1 [==============================] - 1s 1s/step\n",
      "1/1 [==============================] - 1s 1s/step\n",
      "1/1 [==============================] - 1s 1s/step\n",
      "1/1 [==============================] - 1s 1s/step\n",
      "1/1 [==============================] - 1s 1s/step\n",
      "1/1 [==============================] - 1s 1s/step\n",
      "1/1 [==============================] - 1s 1s/step\n",
      "1/1 [==============================] - 1s 1s/step\n"
     ]
    }
   ],
   "source": [
    "# Predict segmentation mask for each 3D patch\n",
    "predicted_patches = []\n",
    "\n",
    "for i in range(patches.shape[0]):\n",
    "    for j in range(patches.shape[1]):\n",
    "        for k in range(patches.shape[2]):\n",
    "            # Extract a single grayscale patch: shape (64, 64, 64)\n",
    "            single_patch = patches[i, j, k, :, :, :]\n",
    "\n",
    "            # Convert to 3-channel input: shape (64, 64, 64, 3)\n",
    "            single_patch_3ch = np.stack((single_patch,) * 3, axis=-1)\n",
    "\n",
    "            # Expand dimensions to make it batch-shaped: shape (1, 64, 64, 64, 3)\n",
    "            single_patch_input = np.expand_dims(single_patch_3ch, axis=0)\n",
    "\n",
    "            # Preprocess input according to VGG16\n",
    "            single_patch_input = preprocess_input(single_patch_input)\n",
    "\n",
    "            # Predict segmentation output: shape (1, 64, 64, 64, 8)\n",
    "            prediction = my_model.predict(single_patch_input)\n",
    "\n",
    "            # Convert probabilities to class labels: shape (64, 64, 64)\n",
    "            prediction_argmax = np.argmax(prediction, axis=4)[0]\n",
    "\n",
    "            # Append prediction\n",
    "            predicted_patches.append(prediction_argmax)\n"
   ]
  },
  {
   "cell_type": "code",
   "execution_count": 11,
   "id": "e6228a45",
   "metadata": {},
   "outputs": [
    {
     "name": "stdout",
     "output_type": "stream",
     "text": [
      "Predicted patches shape (flat): (256, 64, 64, 64)\n"
     ]
    }
   ],
   "source": [
    "# Convert and reshape prediction list\n",
    "predicted_patches = np.array(predicted_patches)\n",
    "print(\"Predicted patches shape (flat):\", predicted_patches.shape)"
   ]
  },
  {
   "cell_type": "code",
   "execution_count": 12,
   "id": "619a26e3",
   "metadata": {},
   "outputs": [
    {
     "name": "stdout",
     "output_type": "stream",
     "text": [
      "Reshaped to patch grid: (8, 8, 4, 64, 64, 64)\n"
     ]
    }
   ],
   "source": [
    "predicted_patches_reshaped = np.reshape(predicted_patches,\n",
    "    (patches.shape[0], patches.shape[1], patches.shape[2], 64, 64, 64)\n",
    ")\n",
    "print(\"Reshaped to patch grid:\", predicted_patches_reshaped.shape)"
   ]
  },
  {
   "cell_type": "code",
   "execution_count": 13,
   "id": "ee5d8baf",
   "metadata": {},
   "outputs": [],
   "source": [
    "from patchify import patchify, unpatchify"
   ]
  },
  {
   "cell_type": "code",
   "execution_count": 14,
   "id": "dffbb30d",
   "metadata": {},
   "outputs": [
    {
     "name": "stdout",
     "output_type": "stream",
     "text": [
      "Final reconstructed shape: (512, 512, 206)\n"
     ]
    }
   ],
   "source": [
    "# Reconstruct segmented volume\n",
    "reconstructed_image = unpatchify(predicted_patches_reshaped, padded_image.shape)\n",
    "reconstructed_image = reconstructed_image[:, :, :depth]  # Remove padding\n",
    "print(\"Final reconstructed shape:\", reconstructed_image.shape)"
   ]
  },
  {
   "cell_type": "code",
   "execution_count": 15,
   "id": "1a9503fd",
   "metadata": {},
   "outputs": [
    {
     "name": "stdout",
     "output_type": "stream",
     "text": [
      "Saved raw segmented image\n"
     ]
    },
    {
     "name": "stderr",
     "output_type": "stream",
     "text": [
      "C:\\Users\\manvi sharma\\AppData\\Local\\Temp\\ipykernel_18984\\4220865166.py:5: UserWarning: ./segmented.tif is a low contrast image\n",
      "  imsave('./segmented.tif', reconstructed_image)\n"
     ]
    }
   ],
   "source": [
    "from skimage.io import imsave\n",
    "\n",
    "# Save basic segmented volume\n",
    "reconstructed_image = reconstructed_image.astype(np.uint8)\n",
    "imsave('./segmented.tif', reconstructed_image)\n",
    "print(\"Saved raw segmented image\")"
   ]
  },
  {
   "cell_type": "code",
   "execution_count": 16,
   "id": "e036582f",
   "metadata": {},
   "outputs": [],
   "source": [
    "# Create binary masks for each of the 8 classes\n",
    "num_segments = 8\n",
    "final = np.zeros((*reconstructed_image.shape, num_segments), dtype=np.int8)\n",
    "\n",
    "for i in range(num_segments):\n",
    "    final[..., i] = (reconstructed_image == i).astype(np.int8)"
   ]
  },
  {
   "cell_type": "code",
   "execution_count": 17,
   "id": "d32f1cf5",
   "metadata": {},
   "outputs": [
    {
     "name": "stdout",
     "output_type": "stream",
     "text": [
      "Collecting apeer-ometiff-library\n",
      "  Downloading apeer_ometiff_library-1.11.0-py3-none-any.whl (19 kB)\n",
      "Requirement already satisfied: numpy>=1.18.5 in c:\\users\\manvi sharma\\appdata\\local\\programs\\python\\python310\\lib\\site-packages (from apeer-ometiff-library) (1.24.3)\n",
      "Collecting imagecodecs>=2023.9.18\n",
      "  Downloading imagecodecs-2025.3.30-cp310-cp310-win_amd64.whl (28.9 MB)\n",
      "Requirement already satisfied: tifffile>=2020.9.30 in c:\\users\\manvi sharma\\appdata\\local\\programs\\python\\python310\\lib\\site-packages (from apeer-ometiff-library) (2025.3.30)\n",
      "Installing collected packages: imagecodecs, apeer-ometiff-library\n",
      "Successfully installed apeer-ometiff-library-1.11.0 imagecodecs-2025.3.30\n",
      "Note: you may need to restart the kernel to use updated packages.\n"
     ]
    },
    {
     "name": "stderr",
     "output_type": "stream",
     "text": [
      "WARNING: Ignoring invalid distribution -rotobuf (c:\\users\\manvi sharma\\appdata\\local\\programs\\python\\python310\\lib\\site-packages)\n",
      "WARNING: Ignoring invalid distribution -eras (c:\\users\\manvi sharma\\appdata\\local\\programs\\python\\python310\\lib\\site-packages)\n",
      "WARNING: Ignoring invalid distribution -rotobuf (c:\\users\\manvi sharma\\appdata\\local\\programs\\python\\python310\\lib\\site-packages)\n",
      "WARNING: Ignoring invalid distribution -eras (c:\\users\\manvi sharma\\appdata\\local\\programs\\python\\python310\\lib\\site-packages)\n",
      "WARNING: Ignoring invalid distribution -rotobuf (c:\\users\\manvi sharma\\appdata\\local\\programs\\python\\python310\\lib\\site-packages)\n",
      "WARNING: Ignoring invalid distribution -eras (c:\\users\\manvi sharma\\appdata\\local\\programs\\python\\python310\\lib\\site-packages)\n",
      "WARNING: Ignoring invalid distribution -rotobuf (c:\\users\\manvi sharma\\appdata\\local\\programs\\python\\python310\\lib\\site-packages)\n",
      "WARNING: Ignoring invalid distribution -eras (c:\\users\\manvi sharma\\appdata\\local\\programs\\python\\python310\\lib\\site-packages)\n",
      "WARNING: Ignoring invalid distribution -rotobuf (c:\\users\\manvi sharma\\appdata\\local\\programs\\python\\python310\\lib\\site-packages)\n",
      "WARNING: Ignoring invalid distribution -eras (c:\\users\\manvi sharma\\appdata\\local\\programs\\python\\python310\\lib\\site-packages)\n",
      "WARNING: Ignoring invalid distribution -rotobuf (c:\\users\\manvi sharma\\appdata\\local\\programs\\python\\python310\\lib\\site-packages)\n",
      "WARNING: Ignoring invalid distribution -eras (c:\\users\\manvi sharma\\appdata\\local\\programs\\python\\python310\\lib\\site-packages)\n",
      "WARNING: Ignoring invalid distribution -rotobuf (c:\\users\\manvi sharma\\appdata\\local\\programs\\python\\python310\\lib\\site-packages)\n",
      "WARNING: Ignoring invalid distribution -eras (c:\\users\\manvi sharma\\appdata\\local\\programs\\python\\python310\\lib\\site-packages)\n",
      "WARNING: Ignoring invalid distribution -rotobuf (c:\\users\\manvi sharma\\appdata\\local\\programs\\python\\python310\\lib\\site-packages)\n",
      "WARNING: Ignoring invalid distribution -eras (c:\\users\\manvi sharma\\appdata\\local\\programs\\python\\python310\\lib\\site-packages)\n",
      "WARNING: You are using pip version 21.2.3; however, version 25.0.1 is available.\n",
      "You should consider upgrading via the 'c:\\Users\\manvi sharma\\AppData\\Local\\Programs\\Python\\Python310\\python.exe -m pip install --upgrade pip' command.\n"
     ]
    }
   ],
   "source": [
    "\n",
    "#Use APEER OMETIFF library to read and write multidimensional images\n",
    "%pip install apeer-ometiff-library"
   ]
  },
  {
   "cell_type": "code",
   "execution_count": 18,
   "id": "b1b25fa8",
   "metadata": {},
   "outputs": [],
   "source": [
    "from apeer_ometiff_library import io"
   ]
  },
  {
   "cell_type": "code",
   "execution_count": 19,
   "id": "8db1859c",
   "metadata": {},
   "outputs": [
    {
     "name": "stdout",
     "output_type": "stream",
     "text": [
      "Shape for OMETIFF (T, Z, C, X, Y): (1, 512, 8, 206, 512)\n",
      "Multi-channel segmented OMETIFF saved successfully!\n"
     ]
    }
   ],
   "source": [
    "# Convert to OMETIFF format (T, Z, C, X, Y)\n",
    "final = np.expand_dims(final, axis=0)  # Add time axis T=1\n",
    "final = np.swapaxes(final, 2, 4)       # Move channels to 3rd dimension\n",
    "print(\"Shape for OMETIFF (T, Z, C, X, Y):\", final.shape)\n",
    "\n",
    "# Save as OMETIFF\n",
    "io.write_ometiff(\"./segmented_multi_channel.ome.tiff\", final)\n",
    "print(\"Multi-channel segmented OMETIFF saved successfully!\")"
   ]
  },
  {
   "cell_type": "code",
   "execution_count": 20,
   "id": "e3c7105d",
   "metadata": {},
   "outputs": [
    {
     "name": "stdout",
     "output_type": "stream",
     "text": [
      "Shape of the segmented volume is: T, Z, C, X, Y  (1, 512, 8, 206, 512)\n",
      "int8\n"
     ]
    }
   ],
   "source": [
    "print(\"Shape of the segmented volume is: T, Z, C, X, Y \", final.shape)\n",
    "print(final.dtype)"
   ]
  }
 ],
 "metadata": {
  "kernelspec": {
   "display_name": "Python 3",
   "language": "python",
   "name": "python3"
  },
  "language_info": {
   "codemirror_mode": {
    "name": "ipython",
    "version": 3
   },
   "file_extension": ".py",
   "mimetype": "text/x-python",
   "name": "python",
   "nbconvert_exporter": "python",
   "pygments_lexer": "ipython3",
   "version": "3.10.0"
  }
 },
 "nbformat": 4,
 "nbformat_minor": 5
}
